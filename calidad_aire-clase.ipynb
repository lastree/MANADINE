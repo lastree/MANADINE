{
 "cells": [
  {
   "cell_type": "markdown",
   "id": "6a1d0da8",
   "metadata": {},
   "source": [
    "# Calidad del aire - Gijón\n",
    "\n",
    "###  FICHA DE LOS DATOS\n",
    "---------------------------\n",
    "* Periodo: Desde año 2020 hasta 2021 \n",
    "* Frecuencia de recogida: horaria\n",
    "* Fuente: [Ayuntamiento de Gijón](https://www.gijon.es/es/datos?q=aire&)\n",
    "* Descripción de los datos recogidos: [Ayuntamiento de Gijón - Descripción de parámentros](https://www.gijon.es/es/datos/calidad_aire_parametros) "
   ]
  },
  {
   "cell_type": "markdown",
   "id": "0f3fa4d3",
   "metadata": {},
   "source": [
    "## Lectura de datos\n",
    "\n",
    "### Texto plano\n",
    "\n",
    "**Ejercicio 1**: Lee la serie histórica del año 2000 en formato *texto plano*. Comenta los errores encontrados en el proceso y cómo los has solucionado."
   ]
  },
  {
   "cell_type": "code",
   "execution_count": 1,
   "id": "6b324452",
   "metadata": {},
   "outputs": [
    {
     "ename": "ERROR",
     "evalue": "Error in scan(file = file, what = what, sep = sep, quote = quote, dec = dec, : line 68 did not have 21 elements\n",
     "output_type": "error",
     "traceback": [
      "Error in scan(file = file, what = what, sep = sep, quote = quote, dec = dec, : line 68 did not have 21 elements\nTraceback:\n",
      "1. read.table(\"http://opendata.gijon.es/descargar.php?id=8&tipo=TXT\")",
      "2. scan(file = file, what = what, sep = sep, quote = quote, dec = dec, \n .     nmax = nrows, skip = 0, na.strings = na.strings, quiet = TRUE, \n .     fill = fill, strip.white = strip.white, blank.lines.skip = blank.lines.skip, \n .     multi.line = FALSE, comment.char = comment.char, allowEscapes = allowEscapes, \n .     flush = flush, encoding = encoding, skipNul = skipNul)"
     ]
    }
   ],
   "source": [
    "# Ejercicio 1\n",
    "df_txt <- read.table(\"http://opendata.gijon.es/descargar.php?id=8&tipo=TXT\")"
   ]
  },
  {
   "cell_type": "code",
   "execution_count": 6,
   "id": "8c0857d9",
   "metadata": {},
   "outputs": [
    {
     "data": {
      "text/html": [
       "<table class=\"dataframe\">\n",
       "<caption>A data.frame: 6 × 24</caption>\n",
       "<thead>\n",
       "\t<tr><th></th><th scope=col>V1</th><th scope=col>V2</th><th scope=col>V3</th><th scope=col>V4</th><th scope=col>V5</th><th scope=col>V6</th><th scope=col>V7</th><th scope=col>V8</th><th scope=col>V9</th><th scope=col>V10</th><th scope=col>⋯</th><th scope=col>V15</th><th scope=col>V16</th><th scope=col>V17</th><th scope=col>V18</th><th scope=col>V19</th><th scope=col>V20</th><th scope=col>V21</th><th scope=col>V22</th><th scope=col>V23</th><th scope=col>V24</th></tr>\n",
       "\t<tr><th></th><th scope=col>&lt;int&gt;</th><th scope=col>&lt;chr&gt;</th><th scope=col>&lt;dbl&gt;</th><th scope=col>&lt;dbl&gt;</th><th scope=col>&lt;chr&gt;</th><th scope=col>&lt;int&gt;</th><th scope=col>&lt;int&gt;</th><th scope=col>&lt;int&gt;</th><th scope=col>&lt;int&gt;</th><th scope=col>&lt;dbl&gt;</th><th scope=col>⋯</th><th scope=col>&lt;dbl&gt;</th><th scope=col>&lt;int&gt;</th><th scope=col>&lt;int&gt;</th><th scope=col>&lt;int&gt;</th><th scope=col>&lt;dbl&gt;</th><th scope=col>&lt;lgl&gt;</th><th scope=col>&lt;lgl&gt;</th><th scope=col>&lt;lgl&gt;</th><th scope=col>&lt;lgl&gt;</th><th scope=col>&lt;lgl&gt;</th></tr>\n",
       "</thead>\n",
       "<tbody>\n",
       "\t<tr><th scope=row>1</th><td>1</td><td>Estación Avenida Constitución</td><td>43.52981</td><td>-5.673428</td><td>2000-12-31</td><td>24</td><td> 8</td><td> 7</td><td>19</td><td>0.35</td><td>⋯</td><td>18.5</td><td>33</td><td>984</td><td>23</td><td>0</td><td>NA</td><td>NA</td><td>NA</td><td>NA</td><td>NA</td></tr>\n",
       "\t<tr><th scope=row>2</th><td>1</td><td>Estación Avenida Constitución</td><td>43.52981</td><td>-5.673428</td><td>2000-12-31</td><td>23</td><td>10</td><td> 7</td><td>21</td><td>0.34</td><td>⋯</td><td>18.3</td><td>35</td><td>985</td><td>23</td><td>0</td><td>NA</td><td>NA</td><td>NA</td><td>NA</td><td>NA</td></tr>\n",
       "\t<tr><th scope=row>3</th><td>1</td><td>Estación Avenida Constitución</td><td>43.52981</td><td>-5.673428</td><td>2000-12-31</td><td>22</td><td>11</td><td>11</td><td>34</td><td>0.54</td><td>⋯</td><td>18.0</td><td>37</td><td>986</td><td>23</td><td>0</td><td>NA</td><td>NA</td><td>NA</td><td>NA</td><td>NA</td></tr>\n",
       "\t<tr><th scope=row>4</th><td>1</td><td>Estación Avenida Constitución</td><td>43.52981</td><td>-5.673428</td><td>2000-12-31</td><td>21</td><td>13</td><td>14</td><td>34</td><td>0.63</td><td>⋯</td><td>18.1</td><td>36</td><td>987</td><td>23</td><td>0</td><td>NA</td><td>NA</td><td>NA</td><td>NA</td><td>NA</td></tr>\n",
       "\t<tr><th scope=row>5</th><td>1</td><td>Estación Avenida Constitución</td><td>43.52981</td><td>-5.673428</td><td>2000-12-31</td><td>20</td><td>13</td><td>13</td><td>35</td><td>0.51</td><td>⋯</td><td>17.6</td><td>38</td><td>988</td><td>23</td><td>0</td><td>NA</td><td>NA</td><td>NA</td><td>NA</td><td>NA</td></tr>\n",
       "\t<tr><th scope=row>6</th><td>1</td><td>Estación Avenida Constitución</td><td>43.52981</td><td>-5.673428</td><td>2000-12-31</td><td>19</td><td>15</td><td>13</td><td>33</td><td>0.44</td><td>⋯</td><td>17.1</td><td>38</td><td>989</td><td>24</td><td>0</td><td>NA</td><td>NA</td><td>NA</td><td>NA</td><td>NA</td></tr>\n",
       "</tbody>\n",
       "</table>\n"
      ],
      "text/latex": [
       "A data.frame: 6 × 24\n",
       "\\begin{tabular}{r|lllllllllllllllllllll}\n",
       "  & V1 & V2 & V3 & V4 & V5 & V6 & V7 & V8 & V9 & V10 & ⋯ & V15 & V16 & V17 & V18 & V19 & V20 & V21 & V22 & V23 & V24\\\\\n",
       "  & <int> & <chr> & <dbl> & <dbl> & <chr> & <int> & <int> & <int> & <int> & <dbl> & ⋯ & <dbl> & <int> & <int> & <int> & <dbl> & <lgl> & <lgl> & <lgl> & <lgl> & <lgl>\\\\\n",
       "\\hline\n",
       "\t1 & 1 & Estación Avenida Constitución & 43.52981 & -5.673428 & 2000-12-31 & 24 &  8 &  7 & 19 & 0.35 & ⋯ & 18.5 & 33 & 984 & 23 & 0 & NA & NA & NA & NA & NA\\\\\n",
       "\t2 & 1 & Estación Avenida Constitución & 43.52981 & -5.673428 & 2000-12-31 & 23 & 10 &  7 & 21 & 0.34 & ⋯ & 18.3 & 35 & 985 & 23 & 0 & NA & NA & NA & NA & NA\\\\\n",
       "\t3 & 1 & Estación Avenida Constitución & 43.52981 & -5.673428 & 2000-12-31 & 22 & 11 & 11 & 34 & 0.54 & ⋯ & 18.0 & 37 & 986 & 23 & 0 & NA & NA & NA & NA & NA\\\\\n",
       "\t4 & 1 & Estación Avenida Constitución & 43.52981 & -5.673428 & 2000-12-31 & 21 & 13 & 14 & 34 & 0.63 & ⋯ & 18.1 & 36 & 987 & 23 & 0 & NA & NA & NA & NA & NA\\\\\n",
       "\t5 & 1 & Estación Avenida Constitución & 43.52981 & -5.673428 & 2000-12-31 & 20 & 13 & 13 & 35 & 0.51 & ⋯ & 17.6 & 38 & 988 & 23 & 0 & NA & NA & NA & NA & NA\\\\\n",
       "\t6 & 1 & Estación Avenida Constitución & 43.52981 & -5.673428 & 2000-12-31 & 19 & 15 & 13 & 33 & 0.44 & ⋯ & 17.1 & 38 & 989 & 24 & 0 & NA & NA & NA & NA & NA\\\\\n",
       "\\end{tabular}\n"
      ],
      "text/markdown": [
       "\n",
       "A data.frame: 6 × 24\n",
       "\n",
       "| <!--/--> | V1 &lt;int&gt; | V2 &lt;chr&gt; | V3 &lt;dbl&gt; | V4 &lt;dbl&gt; | V5 &lt;chr&gt; | V6 &lt;int&gt; | V7 &lt;int&gt; | V8 &lt;int&gt; | V9 &lt;int&gt; | V10 &lt;dbl&gt; | ⋯ ⋯ | V15 &lt;dbl&gt; | V16 &lt;int&gt; | V17 &lt;int&gt; | V18 &lt;int&gt; | V19 &lt;dbl&gt; | V20 &lt;lgl&gt; | V21 &lt;lgl&gt; | V22 &lt;lgl&gt; | V23 &lt;lgl&gt; | V24 &lt;lgl&gt; |\n",
       "|---|---|---|---|---|---|---|---|---|---|---|---|---|---|---|---|---|---|---|---|---|---|\n",
       "| 1 | 1 | Estación Avenida Constitución | 43.52981 | -5.673428 | 2000-12-31 | 24 |  8 |  7 | 19 | 0.35 | ⋯ | 18.5 | 33 | 984 | 23 | 0 | NA | NA | NA | NA | NA |\n",
       "| 2 | 1 | Estación Avenida Constitución | 43.52981 | -5.673428 | 2000-12-31 | 23 | 10 |  7 | 21 | 0.34 | ⋯ | 18.3 | 35 | 985 | 23 | 0 | NA | NA | NA | NA | NA |\n",
       "| 3 | 1 | Estación Avenida Constitución | 43.52981 | -5.673428 | 2000-12-31 | 22 | 11 | 11 | 34 | 0.54 | ⋯ | 18.0 | 37 | 986 | 23 | 0 | NA | NA | NA | NA | NA |\n",
       "| 4 | 1 | Estación Avenida Constitución | 43.52981 | -5.673428 | 2000-12-31 | 21 | 13 | 14 | 34 | 0.63 | ⋯ | 18.1 | 36 | 987 | 23 | 0 | NA | NA | NA | NA | NA |\n",
       "| 5 | 1 | Estación Avenida Constitución | 43.52981 | -5.673428 | 2000-12-31 | 20 | 13 | 13 | 35 | 0.51 | ⋯ | 17.6 | 38 | 988 | 23 | 0 | NA | NA | NA | NA | NA |\n",
       "| 6 | 1 | Estación Avenida Constitución | 43.52981 | -5.673428 | 2000-12-31 | 19 | 15 | 13 | 33 | 0.44 | ⋯ | 17.1 | 38 | 989 | 24 | 0 | NA | NA | NA | NA | NA |\n",
       "\n"
      ],
      "text/plain": [
       "  V1 V2                            V3       V4        V5         V6 V7 V8 V9\n",
       "1 1  Estación Avenida Constitución 43.52981 -5.673428 2000-12-31 24  8  7 19\n",
       "2 1  Estación Avenida Constitución 43.52981 -5.673428 2000-12-31 23 10  7 21\n",
       "3 1  Estación Avenida Constitución 43.52981 -5.673428 2000-12-31 22 11 11 34\n",
       "4 1  Estación Avenida Constitución 43.52981 -5.673428 2000-12-31 21 13 14 34\n",
       "5 1  Estación Avenida Constitución 43.52981 -5.673428 2000-12-31 20 13 13 35\n",
       "6 1  Estación Avenida Constitución 43.52981 -5.673428 2000-12-31 19 15 13 33\n",
       "  V10  ⋯ V15  V16 V17 V18 V19 V20 V21 V22 V23 V24\n",
       "1 0.35 ⋯ 18.5 33  984 23  0   NA  NA  NA  NA  NA \n",
       "2 0.34 ⋯ 18.3 35  985 23  0   NA  NA  NA  NA  NA \n",
       "3 0.54 ⋯ 18.0 37  986 23  0   NA  NA  NA  NA  NA \n",
       "4 0.63 ⋯ 18.1 36  987 23  0   NA  NA  NA  NA  NA \n",
       "5 0.51 ⋯ 17.6 38  988 23  0   NA  NA  NA  NA  NA \n",
       "6 0.44 ⋯ 17.1 38  989 24  0   NA  NA  NA  NA  NA "
      ]
     },
     "metadata": {},
     "output_type": "display_data"
    }
   ],
   "source": [
    "df_txt <- read.table(\"http://opendata.gijon.es/descargar.php?id=8&tipo=TXT\", sep = \"\\t\")\n",
    "head(df_txt)"
   ]
  },
  {
   "cell_type": "markdown",
   "id": "8452bd62",
   "metadata": {},
   "source": [
    "### Formato CSV \n",
    "\n",
    "**Ejercicio 2**: Utiliza las funciones `read.table`, `read.csv` y `read_csv` para leer la serie histórica del año 2000 en formato *.CSV*. Mide los tiempos de procesamiento de las tres funciones y compáralos. ¿Cuál es el método más eficiente?"
   ]
  },
  {
   "cell_type": "code",
   "execution_count": 10,
   "id": "481d664c",
   "metadata": {},
   "outputs": [
    {
     "name": "stdout",
     "output_type": "stream",
     "text": [
      "[1] \"Leyendo datos con read.table...\"\n"
     ]
    },
    {
     "data": {
      "text/plain": [
       "   user  system elapsed \n",
       "  0.408   0.046   6.849 "
      ]
     },
     "metadata": {},
     "output_type": "display_data"
    },
    {
     "name": "stdout",
     "output_type": "stream",
     "text": [
      "[1] \"Leyendo datos con read.csv...\"\n"
     ]
    },
    {
     "data": {
      "text/plain": [
       "   user  system elapsed \n",
       "  0.425   0.058   3.156 "
      ]
     },
     "metadata": {},
     "output_type": "display_data"
    },
    {
     "name": "stdout",
     "output_type": "stream",
     "text": [
      "[1] \"Leyendo datos con read_csv...\"\n"
     ]
    },
    {
     "name": "stderr",
     "output_type": "stream",
     "text": [
      "\n",
      "\u001b[36m──\u001b[39m \u001b[1m\u001b[1mColumn specification\u001b[1m\u001b[22m \u001b[36m────────────────────────────────────────────────────────\u001b[39m\n",
      "cols(\n",
      "  .default = col_double(),\n",
      "  Título = \u001b[31mcol_character()\u001b[39m,\n",
      "  Fecha = \u001b[34mcol_date(format = \"\")\u001b[39m,\n",
      "  BEN = \u001b[33mcol_logical()\u001b[39m,\n",
      "  TOL = \u001b[33mcol_logical()\u001b[39m,\n",
      "  MXIL = \u001b[33mcol_logical()\u001b[39m,\n",
      "  PM25 = \u001b[33mcol_logical()\u001b[39m\n",
      ")\n",
      "\u001b[36mℹ\u001b[39m Use \u001b[30m\u001b[47m\u001b[30m\u001b[47m`spec()`\u001b[47m\u001b[30m\u001b[49m\u001b[39m for the full column specifications.\n",
      "\n",
      "\n"
     ]
    },
    {
     "data": {
      "text/plain": [
       "   user  system elapsed \n",
       "  0.382   0.090   3.176 "
      ]
     },
     "metadata": {},
     "output_type": "display_data"
    }
   ],
   "source": [
    "# Ejercicio 2 \n",
    "print(\"Leyendo datos con read.table...\")\n",
    "system.time(\n",
    "    read.table(\"http://opendata.gijon.es/descargar.php?id=8&tipo=CSV\",\n",
    "               header = TRUE,   # Este CSV contiene cabeceras, que por defecto es FALSE en read.table\n",
    "               sep = \",\")  # CSV = comma separated values\n",
    ")\n",
    "\n",
    "print(\"Leyendo datos con read.csv...\")\n",
    "system.time(\n",
    "    read.csv(\"http://opendata.gijon.es/descargar.php?id=8&tipo=CSV\")  # Ya preparada para gestionar cabeceras y sep\n",
    ")\n",
    "\n",
    "library(readr)\n",
    "print(\"Leyendo datos con read_csv...\")\n",
    "system.time(\n",
    "    read_csv(\"http://opendata.gijon.es/descargar.php?id=8&tipo=CSV\")    \n",
    ")\n"
   ]
  },
  {
   "cell_type": "markdown",
   "id": "e0d5e50e",
   "metadata": {},
   "source": [
    "**Ejercicio 3**: Utiliza el método más eficiente del ejercicio anterior para leer los datos de la última década (2010-2020). Haz una rápida inspección y responde a las siguientes preguntas:\n",
    "\n",
    "* 1). ¿Qué tamaño tiene el conjunto de datos?\n",
    "* 2). Limpia los nombres de las columnas de manera que éstos no contengan ni mayúsculas, ni espacios ni tildes. \n",
    "* 3). Ordena de forma descendente por las columnas `fecha` y `periodo`."
   ]
  },
  {
   "cell_type": "code",
   "execution_count": 24,
   "id": "d4452cbc",
   "metadata": {},
   "outputs": [
    {
     "name": "stdout",
     "output_type": "stream",
     "text": [
      "[1] \"Leyendo datos...\"\n",
      "[1] \"Número de filas: 481968\"\n"
     ]
    },
    {
     "data": {
      "text/html": [
       "<table class=\"dataframe\">\n",
       "<caption>A data.frame: 6 × 23</caption>\n",
       "<thead>\n",
       "\t<tr><th></th><th scope=col>estacion</th><th scope=col>titulo</th><th scope=col>latitud</th><th scope=col>longitud</th><th scope=col>fecha</th><th scope=col>periodo</th><th scope=col>so2</th><th scope=col>no</th><th scope=col>no2</th><th scope=col>co</th><th scope=col>⋯</th><th scope=col>vv</th><th scope=col>tmp</th><th scope=col>hr</th><th scope=col>prb</th><th scope=col>rs</th><th scope=col>ll</th><th scope=col>ben</th><th scope=col>tol</th><th scope=col>mxil</th><th scope=col>pm25</th></tr>\n",
       "\t<tr><th></th><th scope=col>&lt;int&gt;</th><th scope=col>&lt;chr&gt;</th><th scope=col>&lt;dbl&gt;</th><th scope=col>&lt;dbl&gt;</th><th scope=col>&lt;chr&gt;</th><th scope=col>&lt;int&gt;</th><th scope=col>&lt;int&gt;</th><th scope=col>&lt;int&gt;</th><th scope=col>&lt;int&gt;</th><th scope=col>&lt;dbl&gt;</th><th scope=col>⋯</th><th scope=col>&lt;dbl&gt;</th><th scope=col>&lt;dbl&gt;</th><th scope=col>&lt;int&gt;</th><th scope=col>&lt;int&gt;</th><th scope=col>&lt;int&gt;</th><th scope=col>&lt;dbl&gt;</th><th scope=col>&lt;dbl&gt;</th><th scope=col>&lt;dbl&gt;</th><th scope=col>&lt;dbl&gt;</th><th scope=col>&lt;int&gt;</th></tr>\n",
       "</thead>\n",
       "<tbody>\n",
       "\t<tr><th scope=row>1</th><td> 1</td><td>Estación Avenida Constitución       </td><td>43.52981</td><td>-5.673428</td><td>2020-12-31</td><td>24</td><td> 2</td><td>3</td><td>19</td><td>  NA</td><td>⋯</td><td>0.23</td><td>4.8</td><td>100</td><td>1013</td><td>52</td><td> 0</td><td>NA</td><td>NA</td><td>NA</td><td>NA</td></tr>\n",
       "\t<tr><th scope=row>8785</th><td>10</td><td>Estación de Montevil                </td><td>43.51732</td><td>-5.672499</td><td>2020-12-31</td><td>24</td><td> 1</td><td>1</td><td>11</td><td>  NA</td><td>⋯</td><td>1.60</td><td>5.7</td><td>100</td><td>1008</td><td> 2</td><td> 0</td><td>NA</td><td>NA</td><td>NA</td><td> 1</td></tr>\n",
       "\t<tr><th scope=row>17569</th><td>11</td><td>Estación Santa Bárbara              </td><td>43.52096</td><td>-5.690707</td><td>2020-12-31</td><td>24</td><td>NA</td><td>1</td><td> 5</td><td>0.33</td><td>⋯</td><td>  NA</td><td> NA</td><td> NA</td><td>  NA</td><td>NA</td><td>NA</td><td>NA</td><td>NA</td><td>NA</td><td>NA</td></tr>\n",
       "\t<tr><th scope=row>26353</th><td> 2</td><td>Estación Avenida Argentina          </td><td>43.53887</td><td>-5.698930</td><td>2020-12-31</td><td>24</td><td> 3</td><td>2</td><td> 7</td><td>0.11</td><td>⋯</td><td>  NA</td><td> NA</td><td> NA</td><td>  NA</td><td>NA</td><td>NA</td><td>NA</td><td>NA</td><td>NA</td><td>NA</td></tr>\n",
       "\t<tr><th scope=row>35137</th><td> 3</td><td>Estación Avenida Hermanos Felgueroso</td><td>43.53506</td><td>-5.658123</td><td>2020-12-31</td><td>24</td><td> 2</td><td>4</td><td>22</td><td>  NA</td><td>⋯</td><td>  NA</td><td> NA</td><td> NA</td><td>  NA</td><td>NA</td><td>NA</td><td>NA</td><td>NA</td><td>NA</td><td>NA</td></tr>\n",
       "\t<tr><th scope=row>43921</th><td> 4</td><td>Estación Avenida Castilla           </td><td>43.53794</td><td>-5.645951</td><td>2020-12-31</td><td>24</td><td> 4</td><td>7</td><td>21</td><td>0.42</td><td>⋯</td><td>  NA</td><td> NA</td><td> NA</td><td>  NA</td><td>NA</td><td>NA</td><td>NA</td><td>NA</td><td>NA</td><td>NA</td></tr>\n",
       "</tbody>\n",
       "</table>\n"
      ],
      "text/latex": [
       "A data.frame: 6 × 23\n",
       "\\begin{tabular}{r|lllllllllllllllllllll}\n",
       "  & estacion & titulo & latitud & longitud & fecha & periodo & so2 & no & no2 & co & ⋯ & vv & tmp & hr & prb & rs & ll & ben & tol & mxil & pm25\\\\\n",
       "  & <int> & <chr> & <dbl> & <dbl> & <chr> & <int> & <int> & <int> & <int> & <dbl> & ⋯ & <dbl> & <dbl> & <int> & <int> & <int> & <dbl> & <dbl> & <dbl> & <dbl> & <int>\\\\\n",
       "\\hline\n",
       "\t1 &  1 & Estación Avenida Constitución        & 43.52981 & -5.673428 & 2020-12-31 & 24 &  2 & 3 & 19 &   NA & ⋯ & 0.23 & 4.8 & 100 & 1013 & 52 &  0 & NA & NA & NA & NA\\\\\n",
       "\t8785 & 10 & Estación de Montevil                 & 43.51732 & -5.672499 & 2020-12-31 & 24 &  1 & 1 & 11 &   NA & ⋯ & 1.60 & 5.7 & 100 & 1008 &  2 &  0 & NA & NA & NA &  1\\\\\n",
       "\t17569 & 11 & Estación Santa Bárbara               & 43.52096 & -5.690707 & 2020-12-31 & 24 & NA & 1 &  5 & 0.33 & ⋯ &   NA &  NA &  NA &   NA & NA & NA & NA & NA & NA & NA\\\\\n",
       "\t26353 &  2 & Estación Avenida Argentina           & 43.53887 & -5.698930 & 2020-12-31 & 24 &  3 & 2 &  7 & 0.11 & ⋯ &   NA &  NA &  NA &   NA & NA & NA & NA & NA & NA & NA\\\\\n",
       "\t35137 &  3 & Estación Avenida Hermanos Felgueroso & 43.53506 & -5.658123 & 2020-12-31 & 24 &  2 & 4 & 22 &   NA & ⋯ &   NA &  NA &  NA &   NA & NA & NA & NA & NA & NA & NA\\\\\n",
       "\t43921 &  4 & Estación Avenida Castilla            & 43.53794 & -5.645951 & 2020-12-31 & 24 &  4 & 7 & 21 & 0.42 & ⋯ &   NA &  NA &  NA &   NA & NA & NA & NA & NA & NA & NA\\\\\n",
       "\\end{tabular}\n"
      ],
      "text/markdown": [
       "\n",
       "A data.frame: 6 × 23\n",
       "\n",
       "| <!--/--> | estacion &lt;int&gt; | titulo &lt;chr&gt; | latitud &lt;dbl&gt; | longitud &lt;dbl&gt; | fecha &lt;chr&gt; | periodo &lt;int&gt; | so2 &lt;int&gt; | no &lt;int&gt; | no2 &lt;int&gt; | co &lt;dbl&gt; | ⋯ ⋯ | vv &lt;dbl&gt; | tmp &lt;dbl&gt; | hr &lt;int&gt; | prb &lt;int&gt; | rs &lt;int&gt; | ll &lt;dbl&gt; | ben &lt;dbl&gt; | tol &lt;dbl&gt; | mxil &lt;dbl&gt; | pm25 &lt;int&gt; |\n",
       "|---|---|---|---|---|---|---|---|---|---|---|---|---|---|---|---|---|---|---|---|---|---|\n",
       "| 1 |  1 | Estación Avenida Constitución        | 43.52981 | -5.673428 | 2020-12-31 | 24 |  2 | 3 | 19 |   NA | ⋯ | 0.23 | 4.8 | 100 | 1013 | 52 |  0 | NA | NA | NA | NA |\n",
       "| 8785 | 10 | Estación de Montevil                 | 43.51732 | -5.672499 | 2020-12-31 | 24 |  1 | 1 | 11 |   NA | ⋯ | 1.60 | 5.7 | 100 | 1008 |  2 |  0 | NA | NA | NA |  1 |\n",
       "| 17569 | 11 | Estación Santa Bárbara               | 43.52096 | -5.690707 | 2020-12-31 | 24 | NA | 1 |  5 | 0.33 | ⋯ |   NA |  NA |  NA |   NA | NA | NA | NA | NA | NA | NA |\n",
       "| 26353 |  2 | Estación Avenida Argentina           | 43.53887 | -5.698930 | 2020-12-31 | 24 |  3 | 2 |  7 | 0.11 | ⋯ |   NA |  NA |  NA |   NA | NA | NA | NA | NA | NA | NA |\n",
       "| 35137 |  3 | Estación Avenida Hermanos Felgueroso | 43.53506 | -5.658123 | 2020-12-31 | 24 |  2 | 4 | 22 |   NA | ⋯ |   NA |  NA |  NA |   NA | NA | NA | NA | NA | NA | NA |\n",
       "| 43921 |  4 | Estación Avenida Castilla            | 43.53794 | -5.645951 | 2020-12-31 | 24 |  4 | 7 | 21 | 0.42 | ⋯ |   NA |  NA |  NA |   NA | NA | NA | NA | NA | NA | NA |\n",
       "\n"
      ],
      "text/plain": [
       "      estacion titulo                               latitud  longitud \n",
       "1      1       Estación Avenida Constitución        43.52981 -5.673428\n",
       "8785  10       Estación de Montevil                 43.51732 -5.672499\n",
       "17569 11       Estación Santa Bárbara               43.52096 -5.690707\n",
       "26353  2       Estación Avenida Argentina           43.53887 -5.698930\n",
       "35137  3       Estación Avenida Hermanos Felgueroso 43.53506 -5.658123\n",
       "43921  4       Estación Avenida Castilla            43.53794 -5.645951\n",
       "      fecha      periodo so2 no no2 co   ⋯ vv   tmp hr  prb  rs ll ben tol mxil\n",
       "1     2020-12-31 24       2  3  19    NA ⋯ 0.23 4.8 100 1013 52  0 NA  NA  NA  \n",
       "8785  2020-12-31 24       1  1  11    NA ⋯ 1.60 5.7 100 1008  2  0 NA  NA  NA  \n",
       "17569 2020-12-31 24      NA  1   5  0.33 ⋯   NA  NA  NA   NA NA NA NA  NA  NA  \n",
       "26353 2020-12-31 24       3  2   7  0.11 ⋯   NA  NA  NA   NA NA NA NA  NA  NA  \n",
       "35137 2020-12-31 24       2  4  22    NA ⋯   NA  NA  NA   NA NA NA NA  NA  NA  \n",
       "43921 2020-12-31 24       4  7  21  0.42 ⋯   NA  NA  NA   NA NA NA NA  NA  NA  \n",
       "      pm25\n",
       "1     NA  \n",
       "8785   1  \n",
       "17569 NA  \n",
       "26353 NA  \n",
       "35137 NA  \n",
       "43921 NA  "
      ]
     },
     "metadata": {},
     "output_type": "display_data"
    }
   ],
   "source": [
    "# Ejercicio 3\n",
    "ids <- 27:18\n",
    "files <- paste0(\"http://opendata.gijon.es/descargar.php?id=\", ids, \"&tipo=CSV\")  # construyo la secuencia de urls\n",
    "\n",
    "print(\"Leyendo datos...\")\n",
    "df <- data.frame()  # inicializamos data.frame vacío al que ir \"pegando\" los data.frames que leemos en el bucle\n",
    "for (i in 1:length(files)){  \n",
    "    df <- rbind(df,\n",
    "                read.csv(files[i]))\n",
    "}\n",
    "\n",
    "# Respuesta 1\n",
    "print(paste(\"Número de filas:\", nrow(df)))\n",
    "\n",
    "# Respuesta 2\n",
    "df <- janitor::clean_names(df)  # Limpiar nombres\n",
    "\n",
    "# Respuesta 3\n",
    "df <- df[order(df$fecha, df$periodo, decreasing = TRUE), ]\n",
    "\n",
    "head(df)"
   ]
  },
  {
   "cell_type": "code",
   "execution_count": 25,
   "id": "225584b6",
   "metadata": {},
   "outputs": [
    {
     "name": "stdout",
     "output_type": "stream",
     "text": [
      "[1] \"Leyendo datos... (sintaxis tidyverse)\"\n",
      "[1] \"Número de filas: 481968\"\n"
     ]
    },
    {
     "data": {
      "text/html": [
       "<table class=\"dataframe\">\n",
       "<caption>A data.frame: 6 × 23</caption>\n",
       "<thead>\n",
       "\t<tr><th></th><th scope=col>estacion</th><th scope=col>titulo</th><th scope=col>latitud</th><th scope=col>longitud</th><th scope=col>fecha</th><th scope=col>periodo</th><th scope=col>so2</th><th scope=col>no</th><th scope=col>no2</th><th scope=col>co</th><th scope=col>⋯</th><th scope=col>vv</th><th scope=col>tmp</th><th scope=col>hr</th><th scope=col>prb</th><th scope=col>rs</th><th scope=col>ll</th><th scope=col>ben</th><th scope=col>tol</th><th scope=col>mxil</th><th scope=col>pm25</th></tr>\n",
       "\t<tr><th></th><th scope=col>&lt;int&gt;</th><th scope=col>&lt;chr&gt;</th><th scope=col>&lt;dbl&gt;</th><th scope=col>&lt;dbl&gt;</th><th scope=col>&lt;chr&gt;</th><th scope=col>&lt;int&gt;</th><th scope=col>&lt;int&gt;</th><th scope=col>&lt;int&gt;</th><th scope=col>&lt;int&gt;</th><th scope=col>&lt;dbl&gt;</th><th scope=col>⋯</th><th scope=col>&lt;dbl&gt;</th><th scope=col>&lt;dbl&gt;</th><th scope=col>&lt;int&gt;</th><th scope=col>&lt;int&gt;</th><th scope=col>&lt;int&gt;</th><th scope=col>&lt;dbl&gt;</th><th scope=col>&lt;dbl&gt;</th><th scope=col>&lt;dbl&gt;</th><th scope=col>&lt;dbl&gt;</th><th scope=col>&lt;int&gt;</th></tr>\n",
       "</thead>\n",
       "<tbody>\n",
       "\t<tr><th scope=row>1</th><td> 1</td><td>Estación Avenida Constitución       </td><td>43.52981</td><td>-5.673428</td><td>2020-12-31</td><td>24</td><td> 2</td><td>3</td><td>19</td><td>  NA</td><td>⋯</td><td>0.23</td><td>4.8</td><td>100</td><td>1013</td><td>52</td><td> 0</td><td>NA</td><td>NA</td><td>NA</td><td>NA</td></tr>\n",
       "\t<tr><th scope=row>2</th><td>10</td><td>Estación de Montevil                </td><td>43.51732</td><td>-5.672499</td><td>2020-12-31</td><td>24</td><td> 1</td><td>1</td><td>11</td><td>  NA</td><td>⋯</td><td>1.60</td><td>5.7</td><td>100</td><td>1008</td><td> 2</td><td> 0</td><td>NA</td><td>NA</td><td>NA</td><td> 1</td></tr>\n",
       "\t<tr><th scope=row>3</th><td>11</td><td>Estación Santa Bárbara              </td><td>43.52096</td><td>-5.690707</td><td>2020-12-31</td><td>24</td><td>NA</td><td>1</td><td> 5</td><td>0.33</td><td>⋯</td><td>  NA</td><td> NA</td><td> NA</td><td>  NA</td><td>NA</td><td>NA</td><td>NA</td><td>NA</td><td>NA</td><td>NA</td></tr>\n",
       "\t<tr><th scope=row>4</th><td> 2</td><td>Estación Avenida Argentina          </td><td>43.53887</td><td>-5.698930</td><td>2020-12-31</td><td>24</td><td> 3</td><td>2</td><td> 7</td><td>0.11</td><td>⋯</td><td>  NA</td><td> NA</td><td> NA</td><td>  NA</td><td>NA</td><td>NA</td><td>NA</td><td>NA</td><td>NA</td><td>NA</td></tr>\n",
       "\t<tr><th scope=row>5</th><td> 3</td><td>Estación Avenida Hermanos Felgueroso</td><td>43.53506</td><td>-5.658123</td><td>2020-12-31</td><td>24</td><td> 2</td><td>4</td><td>22</td><td>  NA</td><td>⋯</td><td>  NA</td><td> NA</td><td> NA</td><td>  NA</td><td>NA</td><td>NA</td><td>NA</td><td>NA</td><td>NA</td><td>NA</td></tr>\n",
       "\t<tr><th scope=row>6</th><td> 4</td><td>Estación Avenida Castilla           </td><td>43.53794</td><td>-5.645951</td><td>2020-12-31</td><td>24</td><td> 4</td><td>7</td><td>21</td><td>0.42</td><td>⋯</td><td>  NA</td><td> NA</td><td> NA</td><td>  NA</td><td>NA</td><td>NA</td><td>NA</td><td>NA</td><td>NA</td><td>NA</td></tr>\n",
       "</tbody>\n",
       "</table>\n"
      ],
      "text/latex": [
       "A data.frame: 6 × 23\n",
       "\\begin{tabular}{r|lllllllllllllllllllll}\n",
       "  & estacion & titulo & latitud & longitud & fecha & periodo & so2 & no & no2 & co & ⋯ & vv & tmp & hr & prb & rs & ll & ben & tol & mxil & pm25\\\\\n",
       "  & <int> & <chr> & <dbl> & <dbl> & <chr> & <int> & <int> & <int> & <int> & <dbl> & ⋯ & <dbl> & <dbl> & <int> & <int> & <int> & <dbl> & <dbl> & <dbl> & <dbl> & <int>\\\\\n",
       "\\hline\n",
       "\t1 &  1 & Estación Avenida Constitución        & 43.52981 & -5.673428 & 2020-12-31 & 24 &  2 & 3 & 19 &   NA & ⋯ & 0.23 & 4.8 & 100 & 1013 & 52 &  0 & NA & NA & NA & NA\\\\\n",
       "\t2 & 10 & Estación de Montevil                 & 43.51732 & -5.672499 & 2020-12-31 & 24 &  1 & 1 & 11 &   NA & ⋯ & 1.60 & 5.7 & 100 & 1008 &  2 &  0 & NA & NA & NA &  1\\\\\n",
       "\t3 & 11 & Estación Santa Bárbara               & 43.52096 & -5.690707 & 2020-12-31 & 24 & NA & 1 &  5 & 0.33 & ⋯ &   NA &  NA &  NA &   NA & NA & NA & NA & NA & NA & NA\\\\\n",
       "\t4 &  2 & Estación Avenida Argentina           & 43.53887 & -5.698930 & 2020-12-31 & 24 &  3 & 2 &  7 & 0.11 & ⋯ &   NA &  NA &  NA &   NA & NA & NA & NA & NA & NA & NA\\\\\n",
       "\t5 &  3 & Estación Avenida Hermanos Felgueroso & 43.53506 & -5.658123 & 2020-12-31 & 24 &  2 & 4 & 22 &   NA & ⋯ &   NA &  NA &  NA &   NA & NA & NA & NA & NA & NA & NA\\\\\n",
       "\t6 &  4 & Estación Avenida Castilla            & 43.53794 & -5.645951 & 2020-12-31 & 24 &  4 & 7 & 21 & 0.42 & ⋯ &   NA &  NA &  NA &   NA & NA & NA & NA & NA & NA & NA\\\\\n",
       "\\end{tabular}\n"
      ],
      "text/markdown": [
       "\n",
       "A data.frame: 6 × 23\n",
       "\n",
       "| <!--/--> | estacion &lt;int&gt; | titulo &lt;chr&gt; | latitud &lt;dbl&gt; | longitud &lt;dbl&gt; | fecha &lt;chr&gt; | periodo &lt;int&gt; | so2 &lt;int&gt; | no &lt;int&gt; | no2 &lt;int&gt; | co &lt;dbl&gt; | ⋯ ⋯ | vv &lt;dbl&gt; | tmp &lt;dbl&gt; | hr &lt;int&gt; | prb &lt;int&gt; | rs &lt;int&gt; | ll &lt;dbl&gt; | ben &lt;dbl&gt; | tol &lt;dbl&gt; | mxil &lt;dbl&gt; | pm25 &lt;int&gt; |\n",
       "|---|---|---|---|---|---|---|---|---|---|---|---|---|---|---|---|---|---|---|---|---|---|\n",
       "| 1 |  1 | Estación Avenida Constitución        | 43.52981 | -5.673428 | 2020-12-31 | 24 |  2 | 3 | 19 |   NA | ⋯ | 0.23 | 4.8 | 100 | 1013 | 52 |  0 | NA | NA | NA | NA |\n",
       "| 2 | 10 | Estación de Montevil                 | 43.51732 | -5.672499 | 2020-12-31 | 24 |  1 | 1 | 11 |   NA | ⋯ | 1.60 | 5.7 | 100 | 1008 |  2 |  0 | NA | NA | NA |  1 |\n",
       "| 3 | 11 | Estación Santa Bárbara               | 43.52096 | -5.690707 | 2020-12-31 | 24 | NA | 1 |  5 | 0.33 | ⋯ |   NA |  NA |  NA |   NA | NA | NA | NA | NA | NA | NA |\n",
       "| 4 |  2 | Estación Avenida Argentina           | 43.53887 | -5.698930 | 2020-12-31 | 24 |  3 | 2 |  7 | 0.11 | ⋯ |   NA |  NA |  NA |   NA | NA | NA | NA | NA | NA | NA |\n",
       "| 5 |  3 | Estación Avenida Hermanos Felgueroso | 43.53506 | -5.658123 | 2020-12-31 | 24 |  2 | 4 | 22 |   NA | ⋯ |   NA |  NA |  NA |   NA | NA | NA | NA | NA | NA | NA |\n",
       "| 6 |  4 | Estación Avenida Castilla            | 43.53794 | -5.645951 | 2020-12-31 | 24 |  4 | 7 | 21 | 0.42 | ⋯ |   NA |  NA |  NA |   NA | NA | NA | NA | NA | NA | NA |\n",
       "\n"
      ],
      "text/plain": [
       "  estacion titulo                               latitud  longitud  fecha     \n",
       "1  1       Estación Avenida Constitución        43.52981 -5.673428 2020-12-31\n",
       "2 10       Estación de Montevil                 43.51732 -5.672499 2020-12-31\n",
       "3 11       Estación Santa Bárbara               43.52096 -5.690707 2020-12-31\n",
       "4  2       Estación Avenida Argentina           43.53887 -5.698930 2020-12-31\n",
       "5  3       Estación Avenida Hermanos Felgueroso 43.53506 -5.658123 2020-12-31\n",
       "6  4       Estación Avenida Castilla            43.53794 -5.645951 2020-12-31\n",
       "  periodo so2 no no2 co   ⋯ vv   tmp hr  prb  rs ll ben tol mxil pm25\n",
       "1 24       2  3  19    NA ⋯ 0.23 4.8 100 1013 52  0 NA  NA  NA   NA  \n",
       "2 24       1  1  11    NA ⋯ 1.60 5.7 100 1008  2  0 NA  NA  NA    1  \n",
       "3 24      NA  1   5  0.33 ⋯   NA  NA  NA   NA NA NA NA  NA  NA   NA  \n",
       "4 24       3  2   7  0.11 ⋯   NA  NA  NA   NA NA NA NA  NA  NA   NA  \n",
       "5 24       2  4  22    NA ⋯   NA  NA  NA   NA NA NA NA  NA  NA   NA  \n",
       "6 24       4  7  21  0.42 ⋯   NA  NA  NA   NA NA NA NA  NA  NA   NA  "
      ]
     },
     "metadata": {},
     "output_type": "display_data"
    }
   ],
   "source": [
    "# ------------------ Ejercicio 3 Sintaxis tidyverse\n"
   ]
  },
  {
   "cell_type": "markdown",
   "id": "519e6416",
   "metadata": {},
   "source": [
    "**Ejercicio 4**: Se quiere visualizar la serie temporal de `CO`(monóxido de carbono) del mes de marzo de 2020, para ver si se aprecia algún efecto del confinamiento. Para ello:\n",
    "* Pinta de forma independiente cada estación. \n",
    "* Ten en cuenta que los datos han sido recogidos de forma horaria."
   ]
  },
  {
   "cell_type": "markdown",
   "id": "376b526d",
   "metadata": {},
   "source": [
    "### Otros formatos tabulares\n",
    "\n",
    "**Ejercicio 5**: Lee ahora los datos en los formatos `EXCEL` y `TSV`. ¿Cuáles son las diferencias con los formatos anteriores?"
   ]
  },
  {
   "cell_type": "markdown",
   "id": "6c51eda2",
   "metadata": {},
   "source": [
    "**Ejecicio 6 - Entregar**: Crea una función llamada `get_calidad_aire` que, al pasarle una url con la dirección de uno de los ficheros de calidad del aire del Ayuntamiento de Gijón, devuelva el correspondiente data.frame. Además:\n",
    "* La función debe funcionar correctamente ante los tipos de datos `TXT`, `CSV`, `TSV`y `Excel` sin necesidad de explicarle el tipo mediante un argumento. \n",
    "* La función debe devolver un mensaje de error si la url proporcionada no es correcta. "
   ]
  }
 ],
 "metadata": {
  "kernelspec": {
   "display_name": "R",
   "language": "R",
   "name": "ir"
  },
  "language_info": {
   "codemirror_mode": "r",
   "file_extension": ".r",
   "mimetype": "text/x-r-source",
   "name": "R",
   "pygments_lexer": "r",
   "version": "4.0.5"
  }
 },
 "nbformat": 4,
 "nbformat_minor": 5
}
