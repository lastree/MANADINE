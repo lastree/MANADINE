{
 "cells": [
  {
   "cell_type": "markdown",
   "metadata": {},
   "source": [
    "# Práctica: Imputación de datos ausentes\n",
    "\n",
    "Usaremos la librería `VIM` para la imputación de datos ausentes. En esta práctica:\n",
    "\n",
    "* Nos apoyaremos en la inspección realizada en la práctica de visualización de datos ausentes para imputar ausencias en el conjunto de datos jovenes.rdata.\n",
    "* Aprenderemos a:\n",
    "\n",
    "    * Imputar por los métodos: media, media condicionada, hot-deck secuencial, hot-deck aleatorio y la imputación basada en knn.\n",
    "    * Comparar visualmente los efectos de la imputación.\n"
   ]
  },
  {
   "cell_type": "code",
   "execution_count": null,
   "metadata": {},
   "outputs": [],
   "source": [
    "# install.packages('VIM')\n",
    "library(VIM)\n",
    "library(naniar)  # para la visualización de ausencias\n",
    "library(ggplot2) # para hacer gráficas con el efecto de la imputación"
   ]
  },
  {
   "cell_type": "markdown",
   "metadata": {},
   "source": [
    "## Los datos: respuestas cuestionario jóvenes\n",
    "\n",
    "Para realizar esta práctica se usará el fichero de datos `jovenes.rdata`, que contiene las respuestas de más de 600 jóvenes de Gijón al cuestionario `cuestionario.pdf`."
   ]
  },
  {
   "cell_type": "code",
   "execution_count": null,
   "metadata": {},
   "outputs": [],
   "source": [
    "load(\"jovenes.rdata\")  # carga los datos en formato .rdata\n",
    "ls()                   # para comprobar el nombre del objeto cargado \n",
    "\n",
    "head(data)\n",
    "dim(data) # dimensión del dataframe"
   ]
  },
  {
   "cell_type": "markdown",
   "metadata": {},
   "source": [
    "Vamos a ver qué variables podemos imputar en esta práctica, es decir, qué variables son numéricas y tienen ausencias: "
   ]
  },
  {
   "cell_type": "code",
   "execution_count": null,
   "metadata": {},
   "outputs": [],
   "source": [
    "options(repr.plot.width=12, repr.plot.height=5)\n",
    "????::?????(data)"
   ]
  },
  {
   "cell_type": "markdown",
   "metadata": {},
   "source": [
    "En esta práctica imputaremos dos variables: P12 (*horas semanales de ocio*) y P16 (*edad de la primera relación sexual con penetración*), pues en la práctica anterior observamos que había diferencias en las ausencias de esta última entre los encuestados de sexo masculino y femenino."
   ]
  },
  {
   "cell_type": "markdown",
   "metadata": {},
   "source": [
    "## Búsqueda de datos erróneos\n",
    "\n",
    "Antes de imputar, debemos preguntarnos si existen datos erróneos en esta variable. Podemos verlo de distintas maneras: histograma, resumen, etc."
   ]
  },
  {
   "cell_type": "code",
   "execution_count": null,
   "metadata": {},
   "outputs": [],
   "source": [
    "??????"
   ]
  },
  {
   "cell_type": "markdown",
   "metadata": {},
   "source": [
    "En caso de encontrar algún valor erróneo, habría que transformarlo en NA e imputarlo después. La variable P12 contiene algunos valores que podrían considerarse erróneos: si suponemos que el número máximo de horas semanales que una persona puede dedicar al ocio es de 84 (12 horas diarias) nos encontramos con que hay 15 encuestados que superan ese umbral."
   ]
  },
  {
   "cell_type": "code",
   "execution_count": null,
   "metadata": {},
   "outputs": [],
   "source": [
    "# comprueba cuántos encuestados lo cumplen"
   ]
  },
  {
   "cell_type": "markdown",
   "metadata": {},
   "source": [
    "Hay que sustituir esos valores por NAs en P12, pero antes hay equ guardar esta información en otra variable para \"guardar la traza de los datos\". Creamos una variable informativa que tome el valor 0 si P12 es \"correcta\", 1 si es ausente y 2 si es un error (esto puede hacerse de distintas formas)."
   ]
  },
  {
   "cell_type": "code",
   "execution_count": null,
   "metadata": {},
   "outputs": [],
   "source": [
    "data$P12_cod <-  ????\n",
    "\n",
    "# sustituimos los valores erróneos \n",
    "data$P12 <- ????\n"
   ]
  },
  {
   "cell_type": "markdown",
   "metadata": {},
   "source": [
    "## Imputación por la media\n",
    "\n",
    "En todos los métodos procederemos de la misma forma:\n",
    "\n",
    "* Paso 1. Cálculo de la media y desviación típica antes de imputar.\n",
    "* Paso 2. Imputación.\n",
    "* Paso 3. Cálculo de la media y desviación típica después de imputar.\n",
    "* Paso 4. Comparación de resultados gráficamente."
   ]
  },
  {
   "cell_type": "code",
   "execution_count": null,
   "metadata": {},
   "outputs": [],
   "source": [
    "# 1). Calculamos media y desviación típica para ver cómo cambian al imputar\n",
    "m_P12 <- ????\n",
    "sigma_P12 <- ????\n",
    "m_P16 <- ????\n",
    "sigma_P16 <- ????\n",
    "\n",
    "# 2). Imputamos\n",
    "data$P12_imp <- ????\n",
    "data$P16_imp <- ????\n",
    "\n",
    "# 3). media y desviación típica tras imputar\n",
    "m_P12_imp <- ????\n",
    "sigma_P12_imp <- ????\n",
    "m_P16_imp <- ????\n",
    "sigma_P16_imp <- ????\n",
    "\n",
    "# 4). Pintamos\n",
    "titulo_P12 <- paste0(\"IMPUTACIÓN POR LA MEDIA NO CONDICIONADA\\nAntes de imputar: media \", round(m_P12,2),\n",
    "                     \"\\t  -  Std: \", round(sigma_P12,2),\n",
    "                     \"\\nDespués de imputar: media \", round(m_P12_imp, 2),\n",
    "                     \"\\t  -  Std: \", round(sigma_P12_imp,2))\n",
    "titulo_P16 <- paste0(\"IMPUTACIÓN POR LA MEDIA NO CONDICIONADA\\nAntes de imputar: media \", round(m_P16,2),\n",
    "                     \"\\t  -  Std: \", round(sigma_P16,2),\n",
    "                     \"\\nDespués de imputar: media \", round(m_P16_imp, 2),\n",
    "                     \"\\t  -  Std: \", round(sigma_P16_imp,2))\n",
    "\n",
    "plot_P12 <- ggplot(data) + \n",
    "              geom_density(aes(x=P12), size = 1, colour = \"black\") +\n",
    "              geom_density(aes(x=P12_imp), size = 1, colour = \"red\") + \n",
    "              ggtitle(titulo_P12) + theme_minimal()\n",
    "\n",
    "plot_P16 <- ggplot(data) + \n",
    "              geom_density(aes(x=P16), size = 1, colour = \"black\") +\n",
    "              geom_density(aes(x=P16_imp), size = 1, colour = \"red\") + \n",
    "              ggtitle(titulo_P16) + theme_minimal()\n",
    "\n",
    "plot_P12\n",
    "plot_P16"
   ]
  },
  {
   "cell_type": "markdown",
   "metadata": {},
   "source": [
    "**BONUS**: si quieres ver dos gráficos de `ggplot2` en un mismo \"lienzo\", puedes usar la librería `patchwork`: "
   ]
  },
  {
   "cell_type": "code",
   "execution_count": null,
   "metadata": {},
   "outputs": [],
   "source": [
    "#install.packages('patchwork')\n",
    "library(patchwork)\n",
    "plot_P12 + plot_P16  # una gozada de sintaxis :D"
   ]
  },
  {
   "cell_type": "markdown",
   "metadata": {},
   "source": [
    "## Imputación por media condicionada\n",
    "\n",
    "Nos basaremos en la variable P2 (*sexo*) para crear grupos en la muestra sobre los que calcular la media condicionada. Antes de proceder, eliminaremos las ausencias de esta variable:"
   ]
  },
  {
   "cell_type": "code",
   "execution_count": null,
   "metadata": {},
   "outputs": [],
   "source": [
    "data <- ????"
   ]
  },
  {
   "cell_type": "markdown",
   "metadata": {},
   "source": [
    "Hay múltiples formas de calcular la media de una o varias variables por grupos. Una opción interesante es la que ofrece la función `summaryBy` de la librería `doBy`:"
   ]
  },
  {
   "cell_type": "code",
   "execution_count": null,
   "metadata": {},
   "outputs": [],
   "source": [
    "library(doBy)\n",
    "\n",
    "# Calculamos media condicionada\n",
    "mean_na <- ????\n",
    "df <- ????\n",
    "df"
   ]
  },
  {
   "cell_type": "code",
   "execution_count": null,
   "metadata": {},
   "outputs": [],
   "source": [
    "# 2). Imputamos\n",
    "data$P12_imp <- ifelse(is.na(data$P12) & data$P2 == 'Femenino', df$P12.mean_na[1], data$P12)\n",
    "data$P12_imp <- ifelse(is.na(data$P12) & data$P2 == 'Masculino', df$P12.mean_na[2], data$P12)\n",
    "data$P16_imp <- ifelse(is.na(data$P16) & data$P2 == 'Femenino', df$P16.mean_na[1], data$P16)\n",
    "data$P16_imp <- ifelse(is.na(data$P16) & data$P2 == 'Masculino', df$P16.mean_na[2], data$P16)\n",
    "\n",
    "# copia y pega los pasos 3 y 4, modificando el título del gráfico :D"
   ]
  },
  {
   "cell_type": "markdown",
   "metadata": {},
   "source": [
    "## Imputación por hot-deck secuencial\n",
    "\n",
    "Nos basaremos en la variable P1 (*identificador*) para ordenar las filas de la muestra y poder imputar con el método Hot-Deck secuencial:"
   ]
  },
  {
   "cell_type": "code",
   "execution_count": null,
   "metadata": {
    "scrolled": false
   },
   "outputs": [],
   "source": [
    "# 2). Imputamos\n",
    "data_imputed <- ???? # esta función devuelve el dataset imputado\n",
    "\n",
    "# copia y pega los pasos 3 y 4, modificando el título del gráfico :D"
   ]
  },
  {
   "cell_type": "markdown",
   "metadata": {},
   "source": [
    "## Imputación por hot-deck aleatorio\n",
    "\n",
    "Igual que el caso anterior, pero sin usar el argumento `ord_var`.\n",
    "\n",
    "**Nota**: si queremos, podemos condicionar la elección por grupos. Para ello, basta con usar el argumento `domain_var` e indicar cuál es la variable (o variables) que forman los grupos. "
   ]
  },
  {
   "cell_type": "code",
   "execution_count": null,
   "metadata": {
    "scrolled": true
   },
   "outputs": [],
   "source": [
    "# 2). Imputamos\n",
    "data_imputed <- ???? # esta función devuelve el dataset imputado\n",
    "\n",
    "# copia y pega los pasos 3 y 4, modificando el título del gráfico :D"
   ]
  },
  {
   "cell_type": "markdown",
   "metadata": {},
   "source": [
    "## Imputación basada en knn"
   ]
  },
  {
   "cell_type": "code",
   "execution_count": null,
   "metadata": {
    "scrolled": true
   },
   "outputs": [],
   "source": [
    "# 2). Imputamos\n",
    "data_imputed <- ????? # esta función devuelve el dataset imputado\n",
    "# es una función flexible - mucha configuración si se desea\n",
    "\n",
    "# copia y pega los pasos 3 y 4, modificando el título del gráfico :D"
   ]
  }
 ],
 "metadata": {
  "kernelspec": {
   "display_name": "R",
   "language": "R",
   "name": "ir"
  },
  "language_info": {
   "codemirror_mode": "r",
   "file_extension": ".r",
   "mimetype": "text/x-r-source",
   "name": "R",
   "pygments_lexer": "r",
   "version": "3.6.1"
  }
 },
 "nbformat": 4,
 "nbformat_minor": 2
}
