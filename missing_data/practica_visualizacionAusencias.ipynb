{
 "cells": [
  {
   "cell_type": "markdown",
   "metadata": {},
   "source": [
    "# Práctica: Visualización de datos ausentes\n",
    "\n",
    "Usaremos la librería `naniar` para la visualización de datos ausentes. En esta práctica:\n",
    "\n",
    "1. Nos familiarizaremos con el conjunto de datos `jovenes.rdata`, que también utilizaremos en la práctica de imputación. \n",
    "2. Aprenderemos a:\n",
    "    \n",
    "    * Obtener una **visión general de las ausencias en los datos**. \n",
    "    * Buscar, de forma visual, **patrones en las ausencias en los datos**: grupos de variables con ausencias simultáneas, diferencias en las ausencias en distintos grupos de la muestra, etc."
   ]
  },
  {
   "cell_type": "code",
   "execution_count": null,
   "metadata": {},
   "outputs": [],
   "source": [
    "# install.packages('naniar')\n",
    "\n",
    "library(naniar)"
   ]
  },
  {
   "cell_type": "markdown",
   "metadata": {},
   "source": [
    "## Los datos: respuestas cuestionario jóvenes\n",
    "\n",
    "Para realizar esta práctica se usará el fichero de datos `jovenes.rdata`, que contiene las respuestas de más de 600 jóvenes de Gijón al cuestionario `cuestionario.pdf`."
   ]
  },
  {
   "cell_type": "code",
   "execution_count": null,
   "metadata": {},
   "outputs": [],
   "source": [
    "load(\"jovenes.rdata\")  # carga los datos en formato .rdata\n",
    "ls()                   # para comprobar el nombre del objeto cargado "
   ]
  },
  {
   "cell_type": "code",
   "execution_count": null,
   "metadata": {
    "scrolled": true
   },
   "outputs": [],
   "source": [
    "head(data)\n",
    "dim(data) # dimensión del dataframe"
   ]
  },
  {
   "cell_type": "markdown",
   "metadata": {},
   "source": [
    "**Nota**: la función `vis_dat` de la librería `visdat` puede ser interesante para componernos una primera \"imagen\" del conjunto de datos con el que vamos a trabajar: "
   ]
  },
  {
   "cell_type": "code",
   "execution_count": null,
   "metadata": {},
   "outputs": [],
   "source": [
    "library(visdat)\n",
    "\n",
    "vis_dat(data)"
   ]
  },
  {
   "cell_type": "markdown",
   "metadata": {},
   "source": [
    "## Mapa de calor de ausencias\n",
    "\n",
    "La función `vis_miss` proporciona una visualización específica de la cantidad de datos faltantes. Es un mapa de calor donde cada fila es una observación y cada columna una variable. Las celdas coloreadas en negro representan registros ausentes.\n",
    "¿Qué se observa?"
   ]
  },
  {
   "cell_type": "code",
   "execution_count": null,
   "metadata": {},
   "outputs": [],
   "source": [
    "options(repr.plot.width=12, repr.plot.height=8) # para cambiar el tamaño de gráfico :D\n",
    "vis_miss(data)"
   ]
  },
  {
   "cell_type": "markdown",
   "metadata": {},
   "source": [
    "## Ranking de columnas según las ausencias\n",
    "\n",
    "La función `gg_miss_var` proporciona un \"diagrama de barras\" con el número de datos ausentes por cada variable. Además, este diagrama de barras aparece ordenado de manera que en la parte superior aparecen las variables con mayor cantidad de ausencia:"
   ]
  },
  {
   "cell_type": "code",
   "execution_count": null,
   "metadata": {
    "scrolled": true
   },
   "outputs": [],
   "source": [
    "options(repr.plot.width=10, repr.plot.height=6) # para cambiar el tamaño de gráfico :D\n",
    "gg_miss_var(data)"
   ]
  },
  {
   "cell_type": "markdown",
   "metadata": {},
   "source": [
    "En ocasiones, puede ser preferible observar el número de ausencias de cada variable en términos relativos en lugar de en términos absolutos. Para ello, podemos utilizar el argumento `show_pct`:"
   ]
  },
  {
   "cell_type": "code",
   "execution_count": null,
   "metadata": {},
   "outputs": [],
   "source": [
    "gg_miss_var(data, show_pct = TRUE)  # eje x en %"
   ]
  },
  {
   "cell_type": "markdown",
   "metadata": {},
   "source": [
    "Esta función también puede ayudar a visualizar diferencias en las ausencias entre grupos dentro de la muestra: permite hacer una división por niveles de otra variable del conjunto de datos. "
   ]
  },
  {
   "cell_type": "code",
   "execution_count": null,
   "metadata": {
    "scrolled": true
   },
   "outputs": [],
   "source": [
    "gg_miss_var(data, facet = P2)  # para dividir en función de los valores de P2."
   ]
  },
  {
   "cell_type": "markdown",
   "metadata": {},
   "source": [
    "## Ausencias por registro (filas)\n",
    "\n",
    "`gg_miss_case` proporciona de nuevo un diagrama de barras, pero esta vez para ilustrar el número de ausencias en cada fila del conjunto de datos. Es decir, se pueden ver cuántas preguntas han dejado sin responder cada encuestado.  \n",
    "\n",
    "Esta información también puede obtenerse en una tabla con la función `miss_case_table`."
   ]
  },
  {
   "cell_type": "code",
   "execution_count": null,
   "metadata": {
    "scrolled": true
   },
   "outputs": [],
   "source": [
    "gg_miss_case(data)\n",
    "miss_case_table(data)"
   ]
  },
  {
   "cell_type": "markdown",
   "metadata": {},
   "source": [
    "## Interacciones entre variables\n",
    "\n",
    "Para comprobar si las ausencias se producen repetidamente en un grupo de variables de forma silmultánea, es posible utilizar la función `gg_miss_upset`. Por defecto pinta la combinación de 5 variables que presentan mayor número de ausencias de forma simultánea:"
   ]
  },
  {
   "cell_type": "code",
   "execution_count": null,
   "metadata": {},
   "outputs": [],
   "source": [
    "options(repr.plot.width=10, repr.plot.height=5)\n",
    "gg_miss_upset(data)"
   ]
  },
  {
   "cell_type": "markdown",
   "metadata": {},
   "source": [
    "Si se quiere aumentar el número de combinaciones se debe utilizar el argumento `nsets`:"
   ]
  },
  {
   "cell_type": "code",
   "execution_count": null,
   "metadata": {},
   "outputs": [],
   "source": [
    "gg_miss_upset(data, nsets = 10)"
   ]
  },
  {
   "cell_type": "markdown",
   "metadata": {},
   "source": [
    "## Ausencias agrupadas\n",
    "\n",
    "La función `gg_miss_fct` pinta un mapa de calor para mostrar ausencias en función de los niveles de una variable categórica. Puede servir de ayuda si con la división en `gg_miss_var` tenemos alguna sospecha de que haya diferencias en las ausencias en grupos del conjunto."
   ]
  },
  {
   "cell_type": "code",
   "execution_count": null,
   "metadata": {},
   "outputs": [],
   "source": [
    "options(repr.plot.width=10, repr.plot.height=7)\n",
    "gg_miss_fct(data, fct = P2)"
   ]
  },
  {
   "cell_type": "markdown",
   "metadata": {},
   "source": [
    "## Ausencias y ggplot\n",
    "\n",
    "Los gráficos de `ggplot2` ignoran las ausencias en los datos. La librería `naniar` proporciona una función que se puede incorporar como una \"capa\" más en los gráficos de `ggplot2`: la función `geom_miss_point`.  "
   ]
  },
  {
   "cell_type": "code",
   "execution_count": null,
   "metadata": {},
   "outputs": [],
   "source": [
    "ggplot(data, aes(x = P12, y = P1)) + geom_point() + geom_miss_point()  # eje x: horas de ocio, eje y: edad"
   ]
  }
 ],
 "metadata": {
  "kernelspec": {
   "display_name": "R",
   "language": "R",
   "name": "ir"
  },
  "language_info": {
   "codemirror_mode": "r",
   "file_extension": ".r",
   "mimetype": "text/x-r-source",
   "name": "R",
   "pygments_lexer": "r",
   "version": "3.6.1"
  }
 },
 "nbformat": 4,
 "nbformat_minor": 2
}
